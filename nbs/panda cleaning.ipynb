{
 "cells": [
  {
   "cell_type": "code",
   "execution_count": 1,
   "metadata": {
    "_cell_guid": "b1076dfc-b9ad-4769-8c92-a6c4dae69d19",
    "_uuid": "8f2839f25d086af736a60e9eeb907d3b93b6e0e5",
    "execution": {
     "iopub.execute_input": "2020-08-21T06:05:29.131860Z",
     "iopub.status.busy": "2020-08-21T06:05:29.131205Z",
     "iopub.status.idle": "2020-08-21T06:05:32.209325Z",
     "shell.execute_reply": "2020-08-21T06:05:32.208693Z"
    },
    "papermill": {
     "duration": 3.10505,
     "end_time": "2020-08-21T06:05:32.209474",
     "exception": false,
     "start_time": "2020-08-21T06:05:29.104424",
     "status": "completed"
    },
    "tags": []
   },
   "outputs": [],
   "source": [
    "# from apex import amp\n",
    "import numpy as np # linear algebra\n",
    "import pandas as pd\n",
    "import os, cv2, gc\n",
    "from PIL import Image\n",
    "from torch.utils.data import Dataset, DataLoader, DistributedSampler\n",
    "import torch, torchvision\n",
    "from torch import nn, optim\n",
    "import kornia as K\n",
    "from torchvision import transforms\n",
    "from torch import tensor\n",
    "from functools import partial\n",
    "\n",
    "import sys, random, cv2\n",
    "from sklearn.model_selection import StratifiedKFold\n",
    "from sklearn.metrics import cohen_kappa_score\n",
    "import matplotlib.pyplot as plt\n",
    "import torch.nn.functional as F\n",
    "\n",
    "import scipy as sp\n",
    "import functools, time\n",
    "import itertools\n",
    "\n",
    "from tqdm.auto import tqdm"
   ]
  },
  {
   "cell_type": "code",
   "execution_count": 2,
   "metadata": {
    "_cell_guid": "79c7e3d0-c299-4dcb-8224-4455121ee9b0",
    "_uuid": "d629ff2d2480ee46fbb7e2d37f6b5fab8052498a",
    "execution": {
     "iopub.execute_input": "2020-08-21T06:05:32.254232Z",
     "iopub.status.busy": "2020-08-21T06:05:32.253316Z",
     "iopub.status.idle": "2020-08-21T06:05:32.258389Z",
     "shell.execute_reply": "2020-08-21T06:05:32.259076Z"
    },
    "papermill": {
     "duration": 0.031704,
     "end_time": "2020-08-21T06:05:32.259280",
     "exception": false,
     "start_time": "2020-08-21T06:05:32.227576",
     "status": "completed"
    },
    "tags": []
   },
   "outputs": [],
   "source": [
    "N = 12\n",
    "sz= 128\n",
    "mean = torch.tensor([1-0.81, 1-0.610, 1-0.738])\n",
    "std = torch.tensor([0.405, 0.512, 0.418])\n",
    "\n",
    "def rgb2tensor(x):\n",
    "    x = np.moveaxis(x, -1, 0)\n",
    "    x = np.ascontiguousarray(x)\n",
    "    return torch.from_numpy(x/255.)\n",
    "\n",
    "def get_tiles(f):\n",
    "    imgs = []\n",
    "    for i in range(N):\n",
    "        imgs.append(rgb2tensor(cv2.cvtColor(~cv2.imread(f'../input/panda-dataset-x2/{f}_{i}.png'), cv2.COLOR_BGR2RGB)))\n",
    "    return torch.stack(imgs)"
   ]
  },
  {
   "cell_type": "code",
   "execution_count": 3,
   "metadata": {
    "execution": {
     "iopub.execute_input": "2020-08-21T06:05:32.317657Z",
     "iopub.status.busy": "2020-08-21T06:05:32.316703Z",
     "iopub.status.idle": "2020-08-21T06:05:32.320819Z",
     "shell.execute_reply": "2020-08-21T06:05:32.321528Z"
    },
    "papermill": {
     "duration": 0.037875,
     "end_time": "2020-08-21T06:05:32.321696",
     "exception": false,
     "start_time": "2020-08-21T06:05:32.283821",
     "status": "completed"
    },
    "tags": []
   },
   "outputs": [],
   "source": [
    "coefs = [[0.54798694, 2.35815373, 3.4727479,  3.91126344, 4.59170151],\n",
    "          [0.70456434, 2.58822624, 3.52927984, 4.32791742, 4.6536504 ],\n",
    "         [0.58389584, 1.95216901, 3.66551634, 4.04248727, 4.87116245],\n",
    "         [0.55569171, 2.56664067, 3.30064876, 4.05469193, 4.58283954],\n",
    "         [0.66421877, 2.62153281, 3.58990835, 3.83454367, 4.2873346 ]]"
   ]
  },
  {
   "cell_type": "code",
   "execution_count": 4,
   "metadata": {
    "execution": {
     "iopub.execute_input": "2020-08-21T06:05:32.375059Z",
     "iopub.status.busy": "2020-08-21T06:05:32.373973Z",
     "iopub.status.idle": "2020-08-21T06:05:32.379839Z",
     "shell.execute_reply": "2020-08-21T06:05:32.378106Z"
    },
    "papermill": {
     "duration": 0.036821,
     "end_time": "2020-08-21T06:05:32.379992",
     "exception": false,
     "start_time": "2020-08-21T06:05:32.343171",
     "status": "completed"
    },
    "tags": []
   },
   "outputs": [],
   "source": [
    "class ToBatches():\n",
    "    def __call__(self, x):\n",
    "        return x.view(-1, N, 3, sz, sz)\n",
    "    \n",
    "class squeezed():\n",
    "    def __call__(self, x):\n",
    "        return x.view(-1, 3, sz, sz)"
   ]
  },
  {
   "cell_type": "code",
   "execution_count": 5,
   "metadata": {
    "execution": {
     "iopub.execute_input": "2020-08-21T06:05:32.426985Z",
     "iopub.status.busy": "2020-08-21T06:05:32.425445Z",
     "iopub.status.idle": "2020-08-21T06:05:32.427946Z",
     "shell.execute_reply": "2020-08-21T06:05:32.428466Z"
    },
    "papermill": {
     "duration": 0.030216,
     "end_time": "2020-08-21T06:05:32.428582",
     "exception": false,
     "start_time": "2020-08-21T06:05:32.398366",
     "status": "completed"
    },
    "tags": []
   },
   "outputs": [],
   "source": [
    "train_aug = transforms.Compose([\n",
    "                          squeezed(),  \n",
    "                          K.augmentation.RandomAffine(20, shear= (-5, 5), scale=(0.95, 1.1)),\n",
    "                          K.augmentation.RandomHorizontalFlip(p=0.3),\n",
    "                          K.augmentation.RandomVerticalFlip(p=0.3),\n",
    "#                           K.augmentation.RandomMotionBlur(5, (0, 15), 20, 1),\n",
    "                          K.augmentation.RandomPerspective(0.2, 0.2),  \n",
    "                          ToBatches()  \n",
    "                    ])\n",
    "\n",
    "aug2img = transforms.Compose([\n",
    "                              K.tensor_to_image])\n",
    "\n",
    "\n",
    "aug2img2 = transforms.Compose([\n",
    "    K.augmentation.Denormalize(mean, std),\n",
    "                              K.tensor_to_image])\n",
    "\n",
    "primary_tfms = transforms.Compose([K.augmentation.Normalize(mean, std)])"
   ]
  },
  {
   "cell_type": "code",
   "execution_count": 6,
   "metadata": {
    "execution": {
     "iopub.execute_input": "2020-08-21T06:05:32.471744Z",
     "iopub.status.busy": "2020-08-21T06:05:32.470937Z",
     "iopub.status.idle": "2020-08-21T06:05:32.473454Z",
     "shell.execute_reply": "2020-08-21T06:05:32.473975Z"
    },
    "papermill": {
     "duration": 0.027391,
     "end_time": "2020-08-21T06:05:32.474107",
     "exception": false,
     "start_time": "2020-08-21T06:05:32.446716",
     "status": "completed"
    },
    "tags": []
   },
   "outputs": [],
   "source": [
    "class PandaDataset(Dataset):\n",
    "    def __init__(self, df):\n",
    "        self.image_id = df.image_id.values\n",
    "        self.targs = df['isup_grade'].values\n",
    "        \n",
    "    def __getitem__(self, idx):\n",
    "        return primary_tfms(get_tiles(self.image_id[idx])), self.image_id[idx]\n",
    "    \n",
    "    def __len__(self):\n",
    "        return len(self.image_id)"
   ]
  },
  {
   "cell_type": "code",
   "execution_count": 7,
   "metadata": {
    "execution": {
     "iopub.execute_input": "2020-08-21T06:05:32.516457Z",
     "iopub.status.busy": "2020-08-21T06:05:32.515665Z",
     "iopub.status.idle": "2020-08-21T06:05:32.518788Z",
     "shell.execute_reply": "2020-08-21T06:05:32.518288Z"
    },
    "papermill": {
     "duration": 0.02599,
     "end_time": "2020-08-21T06:05:32.518891",
     "exception": false,
     "start_time": "2020-08-21T06:05:32.492901",
     "status": "completed"
    },
    "tags": []
   },
   "outputs": [],
   "source": [
    "def get_base():\n",
    "    model = torchvision.models.resnet34(pretrained=False)\n",
    "    return model"
   ]
  },
  {
   "cell_type": "code",
   "execution_count": 8,
   "metadata": {
    "execution": {
     "iopub.execute_input": "2020-08-21T06:05:32.566063Z",
     "iopub.status.busy": "2020-08-21T06:05:32.565159Z",
     "iopub.status.idle": "2020-08-21T06:05:32.568300Z",
     "shell.execute_reply": "2020-08-21T06:05:32.567765Z"
    },
    "papermill": {
     "duration": 0.030145,
     "end_time": "2020-08-21T06:05:32.568395",
     "exception": false,
     "start_time": "2020-08-21T06:05:32.538250",
     "status": "completed"
    },
    "tags": []
   },
   "outputs": [],
   "source": [
    "class Mish(nn.Module):\n",
    "    def __init__(self):\n",
    "        super().__init__()\n",
    "        \n",
    "    def forward(self, x):\n",
    "        return x*(torch.tanh(F.softplus(x)))\n",
    "\n",
    "def to_Mish(model):\n",
    "    for child_name, child in model.named_children():\n",
    "        if isinstance(child, nn.ReLU):\n",
    "            setattr(model, child_name, Mish())\n",
    "        else:\n",
    "            to_Mish(child)"
   ]
  },
  {
   "cell_type": "code",
   "execution_count": 9,
   "metadata": {
    "execution": {
     "iopub.execute_input": "2020-08-21T06:05:32.613809Z",
     "iopub.status.busy": "2020-08-21T06:05:32.612901Z",
     "iopub.status.idle": "2020-08-21T06:05:32.616147Z",
     "shell.execute_reply": "2020-08-21T06:05:32.615483Z"
    },
    "papermill": {
     "duration": 0.028239,
     "end_time": "2020-08-21T06:05:32.616246",
     "exception": false,
     "start_time": "2020-08-21T06:05:32.588007",
     "status": "completed"
    },
    "tags": []
   },
   "outputs": [],
   "source": [
    "class AdaptiveConcatPool2d(nn.Module):\n",
    "    def __init__(self, sz=1):\n",
    "        super().__init__()\n",
    "        self.output_size = sz\n",
    "        self.ap = nn.AdaptiveAvgPool2d(sz)\n",
    "        self.mp = nn.AdaptiveMaxPool2d(sz)\n",
    "    def forward(self, x): return torch.cat([self.mp(x), self.ap(x)], 1)"
   ]
  },
  {
   "cell_type": "code",
   "execution_count": 10,
   "metadata": {
    "execution": {
     "iopub.execute_input": "2020-08-21T06:05:32.666694Z",
     "iopub.status.busy": "2020-08-21T06:05:32.661054Z",
     "iopub.status.idle": "2020-08-21T06:05:32.675402Z",
     "shell.execute_reply": "2020-08-21T06:05:32.675900Z"
    },
    "papermill": {
     "duration": 0.04144,
     "end_time": "2020-08-21T06:05:32.676014",
     "exception": false,
     "start_time": "2020-08-21T06:05:32.634574",
     "status": "completed"
    },
    "tags": []
   },
   "outputs": [],
   "source": [
    "class OptimizedRounder():\n",
    "    def __init__(self):\n",
    "        self.coef_ = 0\n",
    "\n",
    "    def _kappa_loss(self, coef, X, y):\n",
    "        X_p = np.copy(X)\n",
    "        for i, pred in enumerate(X_p):\n",
    "            if pred < coef[0]:\n",
    "                X_p[i] = 0\n",
    "            elif pred >= coef[0] and pred < coef[1]:\n",
    "                X_p[i] = 1\n",
    "            elif pred >= coef[1] and pred < coef[2]:\n",
    "                X_p[i] = 2\n",
    "            elif pred >= coef[2] and pred < coef[3]:\n",
    "                X_p[i] = 3\n",
    "            elif pred >= coef[3] and pred < coef[4]:\n",
    "                X_p[i] = 4\n",
    "            else:\n",
    "                X_p[i] = 5\n",
    "\n",
    "        ll = calc_score(y, X_p)\n",
    "        return -ll\n",
    "\n",
    "    def fit(self, X, y):\n",
    "        loss_partial = partial(self._kappa_loss, X=X, y=y)\n",
    "        initial_coef = [0.5, 1.5, 2.5, 3.5, 4.5]\n",
    "        self.coef_ = sp.optimize.minimize(loss_partial, initial_coef, method='nelder-mead')\n",
    "\n",
    "    def predict(self, X, coef):\n",
    "        X_p = np.copy(X)\n",
    "        for i, pred in enumerate(X_p):\n",
    "            if pred < coef[0]:\n",
    "                X_p[i] = 0\n",
    "            elif pred >= coef[0] and pred < coef[1]:\n",
    "                X_p[i] = 1\n",
    "            elif pred >= coef[1] and pred < coef[2]:\n",
    "                X_p[i] = 2\n",
    "            elif pred >= coef[2] and pred < coef[3]:\n",
    "                X_p[i] = 3\n",
    "            elif pred >= coef[3] and pred < coef[4]:\n",
    "                X_p[i] = 4\n",
    "            else:\n",
    "                X_p[i] = 5\n",
    "        return X_p\n",
    "\n",
    "    def coefficients(self):\n",
    "        return self.coef_['x']"
   ]
  },
  {
   "cell_type": "code",
   "execution_count": 11,
   "metadata": {
    "execution": {
     "iopub.execute_input": "2020-08-21T06:05:32.736798Z",
     "iopub.status.busy": "2020-08-21T06:05:32.735850Z",
     "iopub.status.idle": "2020-08-21T06:05:32.747553Z",
     "shell.execute_reply": "2020-08-21T06:05:32.747016Z"
    },
    "papermill": {
     "duration": 0.045116,
     "end_time": "2020-08-21T06:05:32.747675",
     "exception": false,
     "start_time": "2020-08-21T06:05:32.702559",
     "status": "completed"
    },
    "tags": []
   },
   "outputs": [],
   "source": [
    "class Model(nn.Module):\n",
    "    def __init__(self, base, n=6):\n",
    "        super().__init__()\n",
    "        m = base\n",
    "        self.enc = nn.Sequential(*list(m.children())[:-2])       \n",
    "        nc = list(m.children())[-1].in_features\n",
    "        self.head = nn.Sequential(AdaptiveConcatPool2d(), nn.Flatten(),nn.Linear(2*nc,512),\n",
    "                            Mish(),nn.BatchNorm1d(512), nn.Dropout(0.5),nn.Linear(512,n))\n",
    "        \n",
    "    def forward(self, x):\n",
    "        n = x.shape[1]\n",
    "        y1 = self.enc(x.view(-1, 3, sz, sz))\n",
    "        s = y1.shape\n",
    "        y1 = y1.view(-1,n,s[1],s[2],s[3]).permute(0,2,1,3,4).contiguous()\\\n",
    "          .view(-1,s[1],s[2]*n,s[3])\n",
    "        return self.head(y1)"
   ]
  },
  {
   "cell_type": "code",
   "execution_count": 12,
   "metadata": {
    "execution": {
     "iopub.execute_input": "2020-08-21T06:05:32.796980Z",
     "iopub.status.busy": "2020-08-21T06:05:32.795903Z",
     "iopub.status.idle": "2020-08-21T06:05:32.799072Z",
     "shell.execute_reply": "2020-08-21T06:05:32.798543Z"
    },
    "papermill": {
     "duration": 0.031255,
     "end_time": "2020-08-21T06:05:32.799189",
     "exception": false,
     "start_time": "2020-08-21T06:05:32.767934",
     "status": "completed"
    },
    "tags": []
   },
   "outputs": [],
   "source": [
    "def get_dl(df, bs= 8):\n",
    "    ds = PandaDataset(df)\n",
    "    return DataLoader(ds, shuffle=False, batch_size=bs, num_workers=4, pin_memory=True)\n",
    "\n",
    "def timer(f):\n",
    "    @functools.wraps(f)\n",
    "    def wrap_timer(*args, **kwargs):\n",
    "        start_time = time.perf_counter()\n",
    "        val = f(*args, **kwargs)\n",
    "        end_time = time.perf_counter()\n",
    "        run_time = end_time - start_time\n",
    "        print(f'Time elapsed : {int(run_time//60)}m {run_time%60:.2f}s', end= \" \"*30+'\\n')\n",
    "        return val\n",
    "    return wrap_timer"
   ]
  },
  {
   "cell_type": "code",
   "execution_count": 13,
   "metadata": {
    "execution": {
     "iopub.execute_input": "2020-08-21T06:05:32.852820Z",
     "iopub.status.busy": "2020-08-21T06:05:32.851955Z",
     "iopub.status.idle": "2020-08-21T06:05:32.854574Z",
     "shell.execute_reply": "2020-08-21T06:05:32.855158Z"
    },
    "papermill": {
     "duration": 0.036283,
     "end_time": "2020-08-21T06:05:32.855284",
     "exception": false,
     "start_time": "2020-08-21T06:05:32.819001",
     "status": "completed"
    },
    "tags": []
   },
   "outputs": [],
   "source": [
    "@timer\n",
    "def predict(fold):\n",
    "    preds_acc, img_ids = [], []\n",
    "    device = torch.device('cuda' if torch.cuda.is_available else 'cpu')\n",
    "    \n",
    "    df = pd.read_pickle(f'../input/panda-remove-noise-1/valid_{fold}.pkl')\n",
    "    dl = get_dl(df, bs=32)\n",
    "    rounder = OptimizedRounder()\n",
    "    \n",
    "    model = Model(get_base(), 1)\n",
    "    model.load_state_dict(torch.load(f'../input/panda-remove-noise-1/model_{fold}.pth'))\n",
    "    model = model.to(device)\n",
    "    print('loaded model')\n",
    "    model.eval()\n",
    "    with torch.no_grad():\n",
    "        for bi, (xb, img_id) in enumerate(tqdm(dl)):\n",
    "            xb = xb.to(device)\n",
    "            img_ids += list(img_id)\n",
    "            preds = model(xb.float())\n",
    "            preds_acc.extend(preds.detach().to('cpu').numpy().tolist())\n",
    "            \n",
    "    preds = np.concatenate(preds_acc)\n",
    "    coefficients = coefs[fold]\n",
    "    final_preds = rounder.predict(preds, coefficients)\n",
    "    df['cleaned'] = final_preds\n",
    "    return df"
   ]
  },
  {
   "cell_type": "code",
   "execution_count": 14,
   "metadata": {
    "execution": {
     "iopub.execute_input": "2020-08-21T06:05:32.899901Z",
     "iopub.status.busy": "2020-08-21T06:05:32.899215Z",
     "iopub.status.idle": "2020-08-21T06:06:19.742905Z",
     "shell.execute_reply": "2020-08-21T06:06:19.742212Z"
    },
    "papermill": {
     "duration": 46.867316,
     "end_time": "2020-08-21T06:06:19.743058",
     "exception": false,
     "start_time": "2020-08-21T06:05:32.875742",
     "status": "completed"
    },
    "tags": []
   },
   "outputs": [
    {
     "name": "stdout",
     "output_type": "stream",
     "text": [
      "loaded model\n"
     ]
    },
    {
     "data": {
      "application/vnd.jupyter.widget-view+json": {
       "model_id": "0d6cebfe9d194800bfb69f6e2237009c",
       "version_major": 2,
       "version_minor": 0
      },
      "text/plain": [
       "HBox(children=(FloatProgress(value=0.0, max=67.0), HTML(value='')))"
      ]
     },
     "metadata": {},
     "output_type": "display_data"
    },
    {
     "name": "stdout",
     "output_type": "stream",
     "text": [
      "\n",
      "Time elapsed : 0m 46.84s                              \n"
     ]
    }
   ],
   "source": [
    "fold0 = predict(0)"
   ]
  },
  {
   "cell_type": "code",
   "execution_count": 15,
   "metadata": {
    "execution": {
     "iopub.execute_input": "2020-08-21T06:06:19.788551Z",
     "iopub.status.busy": "2020-08-21T06:06:19.787722Z",
     "iopub.status.idle": "2020-08-21T06:07:02.914620Z",
     "shell.execute_reply": "2020-08-21T06:07:02.915714Z"
    },
    "papermill": {
     "duration": 43.152415,
     "end_time": "2020-08-21T06:07:02.915946",
     "exception": false,
     "start_time": "2020-08-21T06:06:19.763531",
     "status": "completed"
    },
    "tags": []
   },
   "outputs": [
    {
     "name": "stdout",
     "output_type": "stream",
     "text": [
      "loaded model\n"
     ]
    },
    {
     "data": {
      "application/vnd.jupyter.widget-view+json": {
       "model_id": "9cd00f268d9b4f569c467e15317f74a9",
       "version_major": 2,
       "version_minor": 0
      },
      "text/plain": [
       "HBox(children=(FloatProgress(value=0.0, max=67.0), HTML(value='')))"
      ]
     },
     "metadata": {},
     "output_type": "display_data"
    },
    {
     "name": "stdout",
     "output_type": "stream",
     "text": [
      "\n",
      "Time elapsed : 0m 43.11s                              \n"
     ]
    }
   ],
   "source": [
    "fold1 = predict(1)"
   ]
  },
  {
   "cell_type": "code",
   "execution_count": 16,
   "metadata": {
    "execution": {
     "iopub.execute_input": "2020-08-21T06:07:03.002132Z",
     "iopub.status.busy": "2020-08-21T06:07:02.998338Z",
     "iopub.status.idle": "2020-08-21T06:07:46.726524Z",
     "shell.execute_reply": "2020-08-21T06:07:46.727003Z"
    },
    "papermill": {
     "duration": 43.777384,
     "end_time": "2020-08-21T06:07:46.727212",
     "exception": false,
     "start_time": "2020-08-21T06:07:02.949828",
     "status": "completed"
    },
    "tags": []
   },
   "outputs": [
    {
     "name": "stdout",
     "output_type": "stream",
     "text": [
      "loaded model\n"
     ]
    },
    {
     "data": {
      "application/vnd.jupyter.widget-view+json": {
       "model_id": "dd194996f2ae45319a11ca593dc8fc32",
       "version_major": 2,
       "version_minor": 0
      },
      "text/plain": [
       "HBox(children=(FloatProgress(value=0.0, max=67.0), HTML(value='')))"
      ]
     },
     "metadata": {},
     "output_type": "display_data"
    },
    {
     "name": "stdout",
     "output_type": "stream",
     "text": [
      "\n",
      "Time elapsed : 0m 43.72s                              \n"
     ]
    }
   ],
   "source": [
    "fold2 = predict(2)"
   ]
  },
  {
   "cell_type": "code",
   "execution_count": 17,
   "metadata": {
    "execution": {
     "iopub.execute_input": "2020-08-21T06:07:46.782278Z",
     "iopub.status.busy": "2020-08-21T06:07:46.781538Z",
     "iopub.status.idle": "2020-08-21T06:08:29.064115Z",
     "shell.execute_reply": "2020-08-21T06:08:29.064774Z"
    },
    "papermill": {
     "duration": 42.312344,
     "end_time": "2020-08-21T06:08:29.064956",
     "exception": false,
     "start_time": "2020-08-21T06:07:46.752612",
     "status": "completed"
    },
    "tags": []
   },
   "outputs": [
    {
     "name": "stdout",
     "output_type": "stream",
     "text": [
      "loaded model\n"
     ]
    },
    {
     "data": {
      "application/vnd.jupyter.widget-view+json": {
       "model_id": "5e4d1795c1a64a5a81769659ab0e15c2",
       "version_major": 2,
       "version_minor": 0
      },
      "text/plain": [
       "HBox(children=(FloatProgress(value=0.0, max=67.0), HTML(value='')))"
      ]
     },
     "metadata": {},
     "output_type": "display_data"
    },
    {
     "name": "stdout",
     "output_type": "stream",
     "text": [
      "\n",
      "Time elapsed : 0m 42.28s                              \n"
     ]
    }
   ],
   "source": [
    "fold3 = predict(3)"
   ]
  },
  {
   "cell_type": "code",
   "execution_count": 18,
   "metadata": {
    "execution": {
     "iopub.execute_input": "2020-08-21T06:08:29.118482Z",
     "iopub.status.busy": "2020-08-21T06:08:29.117716Z",
     "iopub.status.idle": "2020-08-21T06:09:12.064856Z",
     "shell.execute_reply": "2020-08-21T06:09:12.064281Z"
    },
    "papermill": {
     "duration": 42.975258,
     "end_time": "2020-08-21T06:09:12.064978",
     "exception": false,
     "start_time": "2020-08-21T06:08:29.089720",
     "status": "completed"
    },
    "tags": []
   },
   "outputs": [
    {
     "name": "stdout",
     "output_type": "stream",
     "text": [
      "loaded model\n"
     ]
    },
    {
     "data": {
      "application/vnd.jupyter.widget-view+json": {
       "model_id": "a375e611720c4544aac3bdc026936700",
       "version_major": 2,
       "version_minor": 0
      },
      "text/plain": [
       "HBox(children=(FloatProgress(value=0.0, max=67.0), HTML(value='')))"
      ]
     },
     "metadata": {},
     "output_type": "display_data"
    },
    {
     "name": "stdout",
     "output_type": "stream",
     "text": [
      "\n",
      "Time elapsed : 0m 42.94s                              \n"
     ]
    }
   ],
   "source": [
    "fold4 = predict(4)"
   ]
  },
  {
   "cell_type": "code",
   "execution_count": 19,
   "metadata": {
    "execution": {
     "iopub.execute_input": "2020-08-21T06:09:12.138538Z",
     "iopub.status.busy": "2020-08-21T06:09:12.137741Z",
     "iopub.status.idle": "2020-08-21T06:09:12.150984Z",
     "shell.execute_reply": "2020-08-21T06:09:12.150408Z"
    },
    "papermill": {
     "duration": 0.059498,
     "end_time": "2020-08-21T06:09:12.151132",
     "exception": false,
     "start_time": "2020-08-21T06:09:12.091634",
     "status": "completed"
    },
    "tags": []
   },
   "outputs": [],
   "source": [
    "df = pd.concat([fold0, fold1, fold2, fold3, fold4])"
   ]
  },
  {
   "cell_type": "code",
   "execution_count": 20,
   "metadata": {
    "execution": {
     "iopub.execute_input": "2020-08-21T06:09:12.230178Z",
     "iopub.status.busy": "2020-08-21T06:09:12.229295Z",
     "iopub.status.idle": "2020-08-21T06:09:12.242818Z",
     "shell.execute_reply": "2020-08-21T06:09:12.243395Z"
    },
    "papermill": {
     "duration": 0.065669,
     "end_time": "2020-08-21T06:09:12.243591",
     "exception": false,
     "start_time": "2020-08-21T06:09:12.177922",
     "status": "completed"
    },
    "tags": []
   },
   "outputs": [
    {
     "data": {
      "text/html": [
       "<div>\n",
       "<style scoped>\n",
       "    .dataframe tbody tr th:only-of-type {\n",
       "        vertical-align: middle;\n",
       "    }\n",
       "\n",
       "    .dataframe tbody tr th {\n",
       "        vertical-align: top;\n",
       "    }\n",
       "\n",
       "    .dataframe thead th {\n",
       "        text-align: right;\n",
       "    }\n",
       "</style>\n",
       "<table border=\"1\" class=\"dataframe\">\n",
       "  <thead>\n",
       "    <tr style=\"text-align: right;\">\n",
       "      <th></th>\n",
       "      <th>image_id</th>\n",
       "      <th>data_provider</th>\n",
       "      <th>isup_grade</th>\n",
       "      <th>gleason_score</th>\n",
       "      <th>cleaned</th>\n",
       "    </tr>\n",
       "  </thead>\n",
       "  <tbody>\n",
       "    <tr>\n",
       "      <th>0</th>\n",
       "      <td>0005f7aaab2800f6170c399693a96917</td>\n",
       "      <td>0</td>\n",
       "      <td>0</td>\n",
       "      <td>0+0</td>\n",
       "      <td>0.0</td>\n",
       "    </tr>\n",
       "    <tr>\n",
       "      <th>1</th>\n",
       "      <td>000920ad0b612851f8e01bcc880d9b3d</td>\n",
       "      <td>0</td>\n",
       "      <td>0</td>\n",
       "      <td>0+0</td>\n",
       "      <td>1.0</td>\n",
       "    </tr>\n",
       "    <tr>\n",
       "      <th>2</th>\n",
       "      <td>0018ae58b01bdadc8e347995b69f99aa</td>\n",
       "      <td>1</td>\n",
       "      <td>4</td>\n",
       "      <td>4+4</td>\n",
       "      <td>4.0</td>\n",
       "    </tr>\n",
       "    <tr>\n",
       "      <th>3</th>\n",
       "      <td>001c62abd11fa4b57bf7a6c603a11bb9</td>\n",
       "      <td>0</td>\n",
       "      <td>4</td>\n",
       "      <td>4+4</td>\n",
       "      <td>4.0</td>\n",
       "    </tr>\n",
       "    <tr>\n",
       "      <th>4</th>\n",
       "      <td>001d865e65ef5d2579c190a0e0350d8f</td>\n",
       "      <td>0</td>\n",
       "      <td>0</td>\n",
       "      <td>0+0</td>\n",
       "      <td>0.0</td>\n",
       "    </tr>\n",
       "    <tr>\n",
       "      <th>...</th>\n",
       "      <td>...</td>\n",
       "      <td>...</td>\n",
       "      <td>...</td>\n",
       "      <td>...</td>\n",
       "      <td>...</td>\n",
       "    </tr>\n",
       "    <tr>\n",
       "      <th>10611</th>\n",
       "      <td>ffd2841373b39792ab0c84cccd066e31</td>\n",
       "      <td>1</td>\n",
       "      <td>0</td>\n",
       "      <td>negative</td>\n",
       "      <td>0.0</td>\n",
       "    </tr>\n",
       "    <tr>\n",
       "      <th>10612</th>\n",
       "      <td>ffdc59cd580a1468eac0e6a32dd1ff2d</td>\n",
       "      <td>1</td>\n",
       "      <td>5</td>\n",
       "      <td>4+5</td>\n",
       "      <td>5.0</td>\n",
       "    </tr>\n",
       "    <tr>\n",
       "      <th>10613</th>\n",
       "      <td>ffe06afd66a93258f8fabdef6044e181</td>\n",
       "      <td>1</td>\n",
       "      <td>0</td>\n",
       "      <td>negative</td>\n",
       "      <td>1.0</td>\n",
       "    </tr>\n",
       "    <tr>\n",
       "      <th>10614</th>\n",
       "      <td>ffe236a25d4cbed59438220799920749</td>\n",
       "      <td>1</td>\n",
       "      <td>2</td>\n",
       "      <td>3+4</td>\n",
       "      <td>3.0</td>\n",
       "    </tr>\n",
       "    <tr>\n",
       "      <th>10615</th>\n",
       "      <td>ffe9bcababc858e04840669e788065a1</td>\n",
       "      <td>1</td>\n",
       "      <td>4</td>\n",
       "      <td>4+4</td>\n",
       "      <td>5.0</td>\n",
       "    </tr>\n",
       "  </tbody>\n",
       "</table>\n",
       "<p>10616 rows × 5 columns</p>\n",
       "</div>"
      ],
      "text/plain": [
       "                               image_id  data_provider  isup_grade  \\\n",
       "0      0005f7aaab2800f6170c399693a96917              0           0   \n",
       "1      000920ad0b612851f8e01bcc880d9b3d              0           0   \n",
       "2      0018ae58b01bdadc8e347995b69f99aa              1           4   \n",
       "3      001c62abd11fa4b57bf7a6c603a11bb9              0           4   \n",
       "4      001d865e65ef5d2579c190a0e0350d8f              0           0   \n",
       "...                                 ...            ...         ...   \n",
       "10611  ffd2841373b39792ab0c84cccd066e31              1           0   \n",
       "10612  ffdc59cd580a1468eac0e6a32dd1ff2d              1           5   \n",
       "10613  ffe06afd66a93258f8fabdef6044e181              1           0   \n",
       "10614  ffe236a25d4cbed59438220799920749              1           2   \n",
       "10615  ffe9bcababc858e04840669e788065a1              1           4   \n",
       "\n",
       "      gleason_score  cleaned  \n",
       "0               0+0      0.0  \n",
       "1               0+0      1.0  \n",
       "2               4+4      4.0  \n",
       "3               4+4      4.0  \n",
       "4               0+0      0.0  \n",
       "...             ...      ...  \n",
       "10611      negative      0.0  \n",
       "10612           4+5      5.0  \n",
       "10613      negative      1.0  \n",
       "10614           3+4      3.0  \n",
       "10615           4+4      5.0  \n",
       "\n",
       "[10616 rows x 5 columns]"
      ]
     },
     "execution_count": 20,
     "metadata": {},
     "output_type": "execute_result"
    }
   ],
   "source": [
    "df"
   ]
  },
  {
   "cell_type": "code",
   "execution_count": 21,
   "metadata": {
    "execution": {
     "iopub.execute_input": "2020-08-21T06:09:12.305657Z",
     "iopub.status.busy": "2020-08-21T06:09:12.304941Z",
     "iopub.status.idle": "2020-08-21T06:09:12.341357Z",
     "shell.execute_reply": "2020-08-21T06:09:12.340082Z"
    },
    "papermill": {
     "duration": 0.069948,
     "end_time": "2020-08-21T06:09:12.341513",
     "exception": false,
     "start_time": "2020-08-21T06:09:12.271565",
     "status": "completed"
    },
    "tags": []
   },
   "outputs": [],
   "source": [
    "df['difference'] = np.abs(df['isup_grade'] - df['cleaned'])"
   ]
  },
  {
   "cell_type": "code",
   "execution_count": 22,
   "metadata": {
    "execution": {
     "iopub.execute_input": "2020-08-21T06:09:12.426379Z",
     "iopub.status.busy": "2020-08-21T06:09:12.425600Z",
     "iopub.status.idle": "2020-08-21T06:09:12.437883Z",
     "shell.execute_reply": "2020-08-21T06:09:12.437182Z"
    },
    "papermill": {
     "duration": 0.051399,
     "end_time": "2020-08-21T06:09:12.438028",
     "exception": false,
     "start_time": "2020-08-21T06:09:12.386629",
     "status": "completed"
    },
    "tags": []
   },
   "outputs": [
    {
     "data": {
      "text/plain": [
       "0.0    5071\n",
       "1.0    3983\n",
       "2.0    1050\n",
       "3.0     355\n",
       "4.0     130\n",
       "5.0      27\n",
       "Name: difference, dtype: int64"
      ]
     },
     "execution_count": 22,
     "metadata": {},
     "output_type": "execute_result"
    }
   ],
   "source": [
    "df['difference'].value_counts()"
   ]
  },
  {
   "cell_type": "markdown",
   "execution_count": null,
   "metadata": {
    "papermill": {
     "duration": 0.031058,
     "end_time": "2020-08-21T06:09:12.503489",
     "exception": false,
     "start_time": "2020-08-21T06:09:12.472431",
     "status": "completed"
    },
    "tags": []
   },
   "source": [
    "### let's remove all images and labels with prediction greater than 2 absolute difference"
   ]
  },
  {
   "cell_type": "code",
   "execution_count": 23,
   "metadata": {
    "execution": {
     "iopub.execute_input": "2020-08-21T06:09:12.568198Z",
     "iopub.status.busy": "2020-08-21T06:09:12.567286Z",
     "iopub.status.idle": "2020-08-21T06:09:12.576863Z",
     "shell.execute_reply": "2020-08-21T06:09:12.576257Z"
    },
    "papermill": {
     "duration": 0.043653,
     "end_time": "2020-08-21T06:09:12.576991",
     "exception": false,
     "start_time": "2020-08-21T06:09:12.533338",
     "status": "completed"
    },
    "tags": []
   },
   "outputs": [],
   "source": [
    "df = df[df['difference']<2]"
   ]
  },
  {
   "cell_type": "code",
   "execution_count": 24,
   "metadata": {
    "execution": {
     "iopub.execute_input": "2020-08-21T06:09:12.639550Z",
     "iopub.status.busy": "2020-08-21T06:09:12.638683Z",
     "iopub.status.idle": "2020-08-21T06:09:12.642686Z",
     "shell.execute_reply": "2020-08-21T06:09:12.643189Z"
    },
    "papermill": {
     "duration": 0.038044,
     "end_time": "2020-08-21T06:09:12.643330",
     "exception": false,
     "start_time": "2020-08-21T06:09:12.605286",
     "status": "completed"
    },
    "tags": []
   },
   "outputs": [
    {
     "data": {
      "text/plain": [
       "(9054, 6)"
      ]
     },
     "execution_count": 24,
     "metadata": {},
     "output_type": "execute_result"
    }
   ],
   "source": [
    "df.shape"
   ]
  },
  {
   "cell_type": "code",
   "execution_count": 25,
   "metadata": {
    "execution": {
     "iopub.execute_input": "2020-08-21T06:09:12.703569Z",
     "iopub.status.busy": "2020-08-21T06:09:12.702895Z",
     "iopub.status.idle": "2020-08-21T06:09:12.769515Z",
     "shell.execute_reply": "2020-08-21T06:09:12.768646Z"
    },
    "papermill": {
     "duration": 0.097782,
     "end_time": "2020-08-21T06:09:12.769648",
     "exception": false,
     "start_time": "2020-08-21T06:09:12.671866",
     "status": "completed"
    },
    "tags": []
   },
   "outputs": [],
   "source": [
    "df.to_csv('cleaned_labels.csv')"
   ]
  },
  {
   "cell_type": "code",
   "execution_count": null,
   "metadata": {
    "papermill": {
     "duration": 0.026106,
     "end_time": "2020-08-21T06:09:12.823045",
     "exception": false,
     "start_time": "2020-08-21T06:09:12.796939",
     "status": "completed"
    },
    "tags": []
   },
   "outputs": [],
   "source": []
  }
 ],
 "metadata": {
  "kernelspec": {
   "display_name": "Python 3",
   "language": "python",
   "name": "python3"
  },
  "language_info": {
   "codemirror_mode": {
    "name": "ipython",
    "version": 3
   },
   "file_extension": ".py",
   "mimetype": "text/x-python",
   "name": "python",
   "nbconvert_exporter": "python",
   "pygments_lexer": "ipython3",
   "version": "3.7.6"
  },
  "papermill": {
   "duration": 228.93641,
   "end_time": "2020-08-21T06:09:13.460585",
   "environment_variables": {},
   "exception": null,
   "input_path": "__notebook__.ipynb",
   "output_path": "__notebook__.ipynb",
   "parameters": {},
   "start_time": "2020-08-21T06:05:24.524175",
   "version": "2.1.0"
  },
  "widgets": {
   "application/vnd.jupyter.widget-state+json": {
    "state": {
     "01b02b19bf5641f29711f47f63c7ce9a": {
      "model_module": "@jupyter-widgets/base",
      "model_module_version": "1.2.0",
      "model_name": "LayoutModel",
      "state": {
       "_model_module": "@jupyter-widgets/base",
       "_model_module_version": "1.2.0",
       "_model_name": "LayoutModel",
       "_view_count": null,
       "_view_module": "@jupyter-widgets/base",
       "_view_module_version": "1.2.0",
       "_view_name": "LayoutView",
       "align_content": null,
       "align_items": null,
       "align_self": null,
       "border": null,
       "bottom": null,
       "display": null,
       "flex": null,
       "flex_flow": null,
       "grid_area": null,
       "grid_auto_columns": null,
       "grid_auto_flow": null,
       "grid_auto_rows": null,
       "grid_column": null,
       "grid_gap": null,
       "grid_row": null,
       "grid_template_areas": null,
       "grid_template_columns": null,
       "grid_template_rows": null,
       "height": null,
       "justify_content": null,
       "justify_items": null,
       "left": null,
       "margin": null,
       "max_height": null,
       "max_width": null,
       "min_height": null,
       "min_width": null,
       "object_fit": null,
       "object_position": null,
       "order": null,
       "overflow": null,
       "overflow_x": null,
       "overflow_y": null,
       "padding": null,
       "right": null,
       "top": null,
       "visibility": null,
       "width": null
      }
     },
     "0a93cf9a25cb4d539812ea724ab455d6": {
      "model_module": "@jupyter-widgets/controls",
      "model_module_version": "1.5.0",
      "model_name": "FloatProgressModel",
      "state": {
       "_dom_classes": [],
       "_model_module": "@jupyter-widgets/controls",
       "_model_module_version": "1.5.0",
       "_model_name": "FloatProgressModel",
       "_view_count": null,
       "_view_module": "@jupyter-widgets/controls",
       "_view_module_version": "1.5.0",
       "_view_name": "ProgressView",
       "bar_style": "success",
       "description": "100%",
       "description_tooltip": null,
       "layout": "IPY_MODEL_2b45fdd79ad648a5bcea37e98a865262",
       "max": 67.0,
       "min": 0.0,
       "orientation": "horizontal",
       "style": "IPY_MODEL_24596e5242d64016a60daff39186f7ec",
       "value": 67.0
      }
     },
     "0c335d59fd1341e6891cf1d680b7043a": {
      "model_module": "@jupyter-widgets/base",
      "model_module_version": "1.2.0",
      "model_name": "LayoutModel",
      "state": {
       "_model_module": "@jupyter-widgets/base",
       "_model_module_version": "1.2.0",
       "_model_name": "LayoutModel",
       "_view_count": null,
       "_view_module": "@jupyter-widgets/base",
       "_view_module_version": "1.2.0",
       "_view_name": "LayoutView",
       "align_content": null,
       "align_items": null,
       "align_self": null,
       "border": null,
       "bottom": null,
       "display": null,
       "flex": null,
       "flex_flow": null,
       "grid_area": null,
       "grid_auto_columns": null,
       "grid_auto_flow": null,
       "grid_auto_rows": null,
       "grid_column": null,
       "grid_gap": null,
       "grid_row": null,
       "grid_template_areas": null,
       "grid_template_columns": null,
       "grid_template_rows": null,
       "height": null,
       "justify_content": null,
       "justify_items": null,
       "left": null,
       "margin": null,
       "max_height": null,
       "max_width": null,
       "min_height": null,
       "min_width": null,
       "object_fit": null,
       "object_position": null,
       "order": null,
       "overflow": null,
       "overflow_x": null,
       "overflow_y": null,
       "padding": null,
       "right": null,
       "top": null,
       "visibility": null,
       "width": null
      }
     },
     "0d6cebfe9d194800bfb69f6e2237009c": {
      "model_module": "@jupyter-widgets/controls",
      "model_module_version": "1.5.0",
      "model_name": "HBoxModel",
      "state": {
       "_dom_classes": [],
       "_model_module": "@jupyter-widgets/controls",
       "_model_module_version": "1.5.0",
       "_model_name": "HBoxModel",
       "_view_count": null,
       "_view_module": "@jupyter-widgets/controls",
       "_view_module_version": "1.5.0",
       "_view_name": "HBoxView",
       "box_style": "",
       "children": [
        "IPY_MODEL_0e7615e87a944a7999b77182d2438178",
        "IPY_MODEL_9f553bcf532c423698ef3de38bdb3e49"
       ],
       "layout": "IPY_MODEL_cb9ead7ee8b74bea85dd7e9a25a97ed4"
      }
     },
     "0e7615e87a944a7999b77182d2438178": {
      "model_module": "@jupyter-widgets/controls",
      "model_module_version": "1.5.0",
      "model_name": "FloatProgressModel",
      "state": {
       "_dom_classes": [],
       "_model_module": "@jupyter-widgets/controls",
       "_model_module_version": "1.5.0",
       "_model_name": "FloatProgressModel",
       "_view_count": null,
       "_view_module": "@jupyter-widgets/controls",
       "_view_module_version": "1.5.0",
       "_view_name": "ProgressView",
       "bar_style": "success",
       "description": "100%",
       "description_tooltip": null,
       "layout": "IPY_MODEL_47f0b34c4e294269a2c0130987ab4f1c",
       "max": 67.0,
       "min": 0.0,
       "orientation": "horizontal",
       "style": "IPY_MODEL_4fa99a05d3db440ab26de30f31d07a71",
       "value": 67.0
      }
     },
     "15e80cd5e0e44814ae226977a9be4880": {
      "model_module": "@jupyter-widgets/base",
      "model_module_version": "1.2.0",
      "model_name": "LayoutModel",
      "state": {
       "_model_module": "@jupyter-widgets/base",
       "_model_module_version": "1.2.0",
       "_model_name": "LayoutModel",
       "_view_count": null,
       "_view_module": "@jupyter-widgets/base",
       "_view_module_version": "1.2.0",
       "_view_name": "LayoutView",
       "align_content": null,
       "align_items": null,
       "align_self": null,
       "border": null,
       "bottom": null,
       "display": null,
       "flex": null,
       "flex_flow": null,
       "grid_area": null,
       "grid_auto_columns": null,
       "grid_auto_flow": null,
       "grid_auto_rows": null,
       "grid_column": null,
       "grid_gap": null,
       "grid_row": null,
       "grid_template_areas": null,
       "grid_template_columns": null,
       "grid_template_rows": null,
       "height": null,
       "justify_content": null,
       "justify_items": null,
       "left": null,
       "margin": null,
       "max_height": null,
       "max_width": null,
       "min_height": null,
       "min_width": null,
       "object_fit": null,
       "object_position": null,
       "order": null,
       "overflow": null,
       "overflow_x": null,
       "overflow_y": null,
       "padding": null,
       "right": null,
       "top": null,
       "visibility": null,
       "width": null
      }
     },
     "1eec9df12c7f4304ad535675d30e57a3": {
      "model_module": "@jupyter-widgets/controls",
      "model_module_version": "1.5.0",
      "model_name": "FloatProgressModel",
      "state": {
       "_dom_classes": [],
       "_model_module": "@jupyter-widgets/controls",
       "_model_module_version": "1.5.0",
       "_model_name": "FloatProgressModel",
       "_view_count": null,
       "_view_module": "@jupyter-widgets/controls",
       "_view_module_version": "1.5.0",
       "_view_name": "ProgressView",
       "bar_style": "success",
       "description": "100%",
       "description_tooltip": null,
       "layout": "IPY_MODEL_0c335d59fd1341e6891cf1d680b7043a",
       "max": 67.0,
       "min": 0.0,
       "orientation": "horizontal",
       "style": "IPY_MODEL_7ac2254d9b8a4df6a042aa77e8b27fe0",
       "value": 67.0
      }
     },
     "222ebd6b4d154f7795bea03b8dca1f85": {
      "model_module": "@jupyter-widgets/controls",
      "model_module_version": "1.5.0",
      "model_name": "DescriptionStyleModel",
      "state": {
       "_model_module": "@jupyter-widgets/controls",
       "_model_module_version": "1.5.0",
       "_model_name": "DescriptionStyleModel",
       "_view_count": null,
       "_view_module": "@jupyter-widgets/base",
       "_view_module_version": "1.2.0",
       "_view_name": "StyleView",
       "description_width": ""
      }
     },
     "24596e5242d64016a60daff39186f7ec": {
      "model_module": "@jupyter-widgets/controls",
      "model_module_version": "1.5.0",
      "model_name": "ProgressStyleModel",
      "state": {
       "_model_module": "@jupyter-widgets/controls",
       "_model_module_version": "1.5.0",
       "_model_name": "ProgressStyleModel",
       "_view_count": null,
       "_view_module": "@jupyter-widgets/base",
       "_view_module_version": "1.2.0",
       "_view_name": "StyleView",
       "bar_color": null,
       "description_width": "initial"
      }
     },
     "2b45fdd79ad648a5bcea37e98a865262": {
      "model_module": "@jupyter-widgets/base",
      "model_module_version": "1.2.0",
      "model_name": "LayoutModel",
      "state": {
       "_model_module": "@jupyter-widgets/base",
       "_model_module_version": "1.2.0",
       "_model_name": "LayoutModel",
       "_view_count": null,
       "_view_module": "@jupyter-widgets/base",
       "_view_module_version": "1.2.0",
       "_view_name": "LayoutView",
       "align_content": null,
       "align_items": null,
       "align_self": null,
       "border": null,
       "bottom": null,
       "display": null,
       "flex": null,
       "flex_flow": null,
       "grid_area": null,
       "grid_auto_columns": null,
       "grid_auto_flow": null,
       "grid_auto_rows": null,
       "grid_column": null,
       "grid_gap": null,
       "grid_row": null,
       "grid_template_areas": null,
       "grid_template_columns": null,
       "grid_template_rows": null,
       "height": null,
       "justify_content": null,
       "justify_items": null,
       "left": null,
       "margin": null,
       "max_height": null,
       "max_width": null,
       "min_height": null,
       "min_width": null,
       "object_fit": null,
       "object_position": null,
       "order": null,
       "overflow": null,
       "overflow_x": null,
       "overflow_y": null,
       "padding": null,
       "right": null,
       "top": null,
       "visibility": null,
       "width": null
      }
     },
     "3424e908dd5d4e95b6b47cc99d4a9792": {
      "model_module": "@jupyter-widgets/base",
      "model_module_version": "1.2.0",
      "model_name": "LayoutModel",
      "state": {
       "_model_module": "@jupyter-widgets/base",
       "_model_module_version": "1.2.0",
       "_model_name": "LayoutModel",
       "_view_count": null,
       "_view_module": "@jupyter-widgets/base",
       "_view_module_version": "1.2.0",
       "_view_name": "LayoutView",
       "align_content": null,
       "align_items": null,
       "align_self": null,
       "border": null,
       "bottom": null,
       "display": null,
       "flex": null,
       "flex_flow": null,
       "grid_area": null,
       "grid_auto_columns": null,
       "grid_auto_flow": null,
       "grid_auto_rows": null,
       "grid_column": null,
       "grid_gap": null,
       "grid_row": null,
       "grid_template_areas": null,
       "grid_template_columns": null,
       "grid_template_rows": null,
       "height": null,
       "justify_content": null,
       "justify_items": null,
       "left": null,
       "margin": null,
       "max_height": null,
       "max_width": null,
       "min_height": null,
       "min_width": null,
       "object_fit": null,
       "object_position": null,
       "order": null,
       "overflow": null,
       "overflow_x": null,
       "overflow_y": null,
       "padding": null,
       "right": null,
       "top": null,
       "visibility": null,
       "width": null
      }
     },
     "362d942929ad45afa7b695a00afbc7c2": {
      "model_module": "@jupyter-widgets/controls",
      "model_module_version": "1.5.0",
      "model_name": "HTMLModel",
      "state": {
       "_dom_classes": [],
       "_model_module": "@jupyter-widgets/controls",
       "_model_module_version": "1.5.0",
       "_model_name": "HTMLModel",
       "_view_count": null,
       "_view_module": "@jupyter-widgets/controls",
       "_view_module_version": "1.5.0",
       "_view_name": "HTMLView",
       "description": "",
       "description_tooltip": null,
       "layout": "IPY_MODEL_01b02b19bf5641f29711f47f63c7ce9a",
       "placeholder": "​",
       "style": "IPY_MODEL_f0a9f99c373546238339e8d301a60fde",
       "value": " 67/67 [00:42&lt;00:00,  1.58it/s]"
      }
     },
     "4596068f6037413d928be29a29032eaf": {
      "model_module": "@jupyter-widgets/base",
      "model_module_version": "1.2.0",
      "model_name": "LayoutModel",
      "state": {
       "_model_module": "@jupyter-widgets/base",
       "_model_module_version": "1.2.0",
       "_model_name": "LayoutModel",
       "_view_count": null,
       "_view_module": "@jupyter-widgets/base",
       "_view_module_version": "1.2.0",
       "_view_name": "LayoutView",
       "align_content": null,
       "align_items": null,
       "align_self": null,
       "border": null,
       "bottom": null,
       "display": null,
       "flex": null,
       "flex_flow": null,
       "grid_area": null,
       "grid_auto_columns": null,
       "grid_auto_flow": null,
       "grid_auto_rows": null,
       "grid_column": null,
       "grid_gap": null,
       "grid_row": null,
       "grid_template_areas": null,
       "grid_template_columns": null,
       "grid_template_rows": null,
       "height": null,
       "justify_content": null,
       "justify_items": null,
       "left": null,
       "margin": null,
       "max_height": null,
       "max_width": null,
       "min_height": null,
       "min_width": null,
       "object_fit": null,
       "object_position": null,
       "order": null,
       "overflow": null,
       "overflow_x": null,
       "overflow_y": null,
       "padding": null,
       "right": null,
       "top": null,
       "visibility": null,
       "width": null
      }
     },
     "46188ca257cb45448d9c9a80c7819ed9": {
      "model_module": "@jupyter-widgets/base",
      "model_module_version": "1.2.0",
      "model_name": "LayoutModel",
      "state": {
       "_model_module": "@jupyter-widgets/base",
       "_model_module_version": "1.2.0",
       "_model_name": "LayoutModel",
       "_view_count": null,
       "_view_module": "@jupyter-widgets/base",
       "_view_module_version": "1.2.0",
       "_view_name": "LayoutView",
       "align_content": null,
       "align_items": null,
       "align_self": null,
       "border": null,
       "bottom": null,
       "display": null,
       "flex": null,
       "flex_flow": null,
       "grid_area": null,
       "grid_auto_columns": null,
       "grid_auto_flow": null,
       "grid_auto_rows": null,
       "grid_column": null,
       "grid_gap": null,
       "grid_row": null,
       "grid_template_areas": null,
       "grid_template_columns": null,
       "grid_template_rows": null,
       "height": null,
       "justify_content": null,
       "justify_items": null,
       "left": null,
       "margin": null,
       "max_height": null,
       "max_width": null,
       "min_height": null,
       "min_width": null,
       "object_fit": null,
       "object_position": null,
       "order": null,
       "overflow": null,
       "overflow_x": null,
       "overflow_y": null,
       "padding": null,
       "right": null,
       "top": null,
       "visibility": null,
       "width": null
      }
     },
     "47f0b34c4e294269a2c0130987ab4f1c": {
      "model_module": "@jupyter-widgets/base",
      "model_module_version": "1.2.0",
      "model_name": "LayoutModel",
      "state": {
       "_model_module": "@jupyter-widgets/base",
       "_model_module_version": "1.2.0",
       "_model_name": "LayoutModel",
       "_view_count": null,
       "_view_module": "@jupyter-widgets/base",
       "_view_module_version": "1.2.0",
       "_view_name": "LayoutView",
       "align_content": null,
       "align_items": null,
       "align_self": null,
       "border": null,
       "bottom": null,
       "display": null,
       "flex": null,
       "flex_flow": null,
       "grid_area": null,
       "grid_auto_columns": null,
       "grid_auto_flow": null,
       "grid_auto_rows": null,
       "grid_column": null,
       "grid_gap": null,
       "grid_row": null,
       "grid_template_areas": null,
       "grid_template_columns": null,
       "grid_template_rows": null,
       "height": null,
       "justify_content": null,
       "justify_items": null,
       "left": null,
       "margin": null,
       "max_height": null,
       "max_width": null,
       "min_height": null,
       "min_width": null,
       "object_fit": null,
       "object_position": null,
       "order": null,
       "overflow": null,
       "overflow_x": null,
       "overflow_y": null,
       "padding": null,
       "right": null,
       "top": null,
       "visibility": null,
       "width": null
      }
     },
     "4c4393fcbaa04d0692a8dae632ef5c53": {
      "model_module": "@jupyter-widgets/controls",
      "model_module_version": "1.5.0",
      "model_name": "DescriptionStyleModel",
      "state": {
       "_model_module": "@jupyter-widgets/controls",
       "_model_module_version": "1.5.0",
       "_model_name": "DescriptionStyleModel",
       "_view_count": null,
       "_view_module": "@jupyter-widgets/base",
       "_view_module_version": "1.2.0",
       "_view_name": "StyleView",
       "description_width": ""
      }
     },
     "4fa99a05d3db440ab26de30f31d07a71": {
      "model_module": "@jupyter-widgets/controls",
      "model_module_version": "1.5.0",
      "model_name": "ProgressStyleModel",
      "state": {
       "_model_module": "@jupyter-widgets/controls",
       "_model_module_version": "1.5.0",
       "_model_name": "ProgressStyleModel",
       "_view_count": null,
       "_view_module": "@jupyter-widgets/base",
       "_view_module_version": "1.2.0",
       "_view_name": "StyleView",
       "bar_color": null,
       "description_width": "initial"
      }
     },
     "5d9795761f384fd694044ee086d38e12": {
      "model_module": "@jupyter-widgets/base",
      "model_module_version": "1.2.0",
      "model_name": "LayoutModel",
      "state": {
       "_model_module": "@jupyter-widgets/base",
       "_model_module_version": "1.2.0",
       "_model_name": "LayoutModel",
       "_view_count": null,
       "_view_module": "@jupyter-widgets/base",
       "_view_module_version": "1.2.0",
       "_view_name": "LayoutView",
       "align_content": null,
       "align_items": null,
       "align_self": null,
       "border": null,
       "bottom": null,
       "display": null,
       "flex": null,
       "flex_flow": null,
       "grid_area": null,
       "grid_auto_columns": null,
       "grid_auto_flow": null,
       "grid_auto_rows": null,
       "grid_column": null,
       "grid_gap": null,
       "grid_row": null,
       "grid_template_areas": null,
       "grid_template_columns": null,
       "grid_template_rows": null,
       "height": null,
       "justify_content": null,
       "justify_items": null,
       "left": null,
       "margin": null,
       "max_height": null,
       "max_width": null,
       "min_height": null,
       "min_width": null,
       "object_fit": null,
       "object_position": null,
       "order": null,
       "overflow": null,
       "overflow_x": null,
       "overflow_y": null,
       "padding": null,
       "right": null,
       "top": null,
       "visibility": null,
       "width": null
      }
     },
     "5e08745bd529433d8c51239e18557bd9": {
      "model_module": "@jupyter-widgets/controls",
      "model_module_version": "1.5.0",
      "model_name": "ProgressStyleModel",
      "state": {
       "_model_module": "@jupyter-widgets/controls",
       "_model_module_version": "1.5.0",
       "_model_name": "ProgressStyleModel",
       "_view_count": null,
       "_view_module": "@jupyter-widgets/base",
       "_view_module_version": "1.2.0",
       "_view_name": "StyleView",
       "bar_color": null,
       "description_width": "initial"
      }
     },
     "5e4d1795c1a64a5a81769659ab0e15c2": {
      "model_module": "@jupyter-widgets/controls",
      "model_module_version": "1.5.0",
      "model_name": "HBoxModel",
      "state": {
       "_dom_classes": [],
       "_model_module": "@jupyter-widgets/controls",
       "_model_module_version": "1.5.0",
       "_model_name": "HBoxModel",
       "_view_count": null,
       "_view_module": "@jupyter-widgets/controls",
       "_view_module_version": "1.5.0",
       "_view_name": "HBoxView",
       "box_style": "",
       "children": [
        "IPY_MODEL_9b351682f3f24f32868c11c6a9c9462a",
        "IPY_MODEL_96ff0e4bb8504c3182ea9e344e1ec234"
       ],
       "layout": "IPY_MODEL_757dee141d7d4bb88f433c32324e2d75"
      }
     },
     "6b24444139c5484b8ec6d58f73d38d34": {
      "model_module": "@jupyter-widgets/controls",
      "model_module_version": "1.5.0",
      "model_name": "DescriptionStyleModel",
      "state": {
       "_model_module": "@jupyter-widgets/controls",
       "_model_module_version": "1.5.0",
       "_model_name": "DescriptionStyleModel",
       "_view_count": null,
       "_view_module": "@jupyter-widgets/base",
       "_view_module_version": "1.2.0",
       "_view_name": "StyleView",
       "description_width": ""
      }
     },
     "6dac07e5bbcf4e7aba6c4387be9accc7": {
      "model_module": "@jupyter-widgets/controls",
      "model_module_version": "1.5.0",
      "model_name": "DescriptionStyleModel",
      "state": {
       "_model_module": "@jupyter-widgets/controls",
       "_model_module_version": "1.5.0",
       "_model_name": "DescriptionStyleModel",
       "_view_count": null,
       "_view_module": "@jupyter-widgets/base",
       "_view_module_version": "1.2.0",
       "_view_name": "StyleView",
       "description_width": ""
      }
     },
     "71467e5cd1314080bab7cfd0872c74db": {
      "model_module": "@jupyter-widgets/controls",
      "model_module_version": "1.5.0",
      "model_name": "ProgressStyleModel",
      "state": {
       "_model_module": "@jupyter-widgets/controls",
       "_model_module_version": "1.5.0",
       "_model_name": "ProgressStyleModel",
       "_view_count": null,
       "_view_module": "@jupyter-widgets/base",
       "_view_module_version": "1.2.0",
       "_view_name": "StyleView",
       "bar_color": null,
       "description_width": "initial"
      }
     },
     "757dee141d7d4bb88f433c32324e2d75": {
      "model_module": "@jupyter-widgets/base",
      "model_module_version": "1.2.0",
      "model_name": "LayoutModel",
      "state": {
       "_model_module": "@jupyter-widgets/base",
       "_model_module_version": "1.2.0",
       "_model_name": "LayoutModel",
       "_view_count": null,
       "_view_module": "@jupyter-widgets/base",
       "_view_module_version": "1.2.0",
       "_view_name": "LayoutView",
       "align_content": null,
       "align_items": null,
       "align_self": null,
       "border": null,
       "bottom": null,
       "display": null,
       "flex": null,
       "flex_flow": null,
       "grid_area": null,
       "grid_auto_columns": null,
       "grid_auto_flow": null,
       "grid_auto_rows": null,
       "grid_column": null,
       "grid_gap": null,
       "grid_row": null,
       "grid_template_areas": null,
       "grid_template_columns": null,
       "grid_template_rows": null,
       "height": null,
       "justify_content": null,
       "justify_items": null,
       "left": null,
       "margin": null,
       "max_height": null,
       "max_width": null,
       "min_height": null,
       "min_width": null,
       "object_fit": null,
       "object_position": null,
       "order": null,
       "overflow": null,
       "overflow_x": null,
       "overflow_y": null,
       "padding": null,
       "right": null,
       "top": null,
       "visibility": null,
       "width": null
      }
     },
     "759df59e681f46338045f37fdc8c8b9b": {
      "model_module": "@jupyter-widgets/base",
      "model_module_version": "1.2.0",
      "model_name": "LayoutModel",
      "state": {
       "_model_module": "@jupyter-widgets/base",
       "_model_module_version": "1.2.0",
       "_model_name": "LayoutModel",
       "_view_count": null,
       "_view_module": "@jupyter-widgets/base",
       "_view_module_version": "1.2.0",
       "_view_name": "LayoutView",
       "align_content": null,
       "align_items": null,
       "align_self": null,
       "border": null,
       "bottom": null,
       "display": null,
       "flex": null,
       "flex_flow": null,
       "grid_area": null,
       "grid_auto_columns": null,
       "grid_auto_flow": null,
       "grid_auto_rows": null,
       "grid_column": null,
       "grid_gap": null,
       "grid_row": null,
       "grid_template_areas": null,
       "grid_template_columns": null,
       "grid_template_rows": null,
       "height": null,
       "justify_content": null,
       "justify_items": null,
       "left": null,
       "margin": null,
       "max_height": null,
       "max_width": null,
       "min_height": null,
       "min_width": null,
       "object_fit": null,
       "object_position": null,
       "order": null,
       "overflow": null,
       "overflow_x": null,
       "overflow_y": null,
       "padding": null,
       "right": null,
       "top": null,
       "visibility": null,
       "width": null
      }
     },
     "7ac2254d9b8a4df6a042aa77e8b27fe0": {
      "model_module": "@jupyter-widgets/controls",
      "model_module_version": "1.5.0",
      "model_name": "ProgressStyleModel",
      "state": {
       "_model_module": "@jupyter-widgets/controls",
       "_model_module_version": "1.5.0",
       "_model_name": "ProgressStyleModel",
       "_view_count": null,
       "_view_module": "@jupyter-widgets/base",
       "_view_module_version": "1.2.0",
       "_view_name": "StyleView",
       "bar_color": null,
       "description_width": "initial"
      }
     },
     "9234eea9ecbd42b591ba8c5f53d2b23a": {
      "model_module": "@jupyter-widgets/base",
      "model_module_version": "1.2.0",
      "model_name": "LayoutModel",
      "state": {
       "_model_module": "@jupyter-widgets/base",
       "_model_module_version": "1.2.0",
       "_model_name": "LayoutModel",
       "_view_count": null,
       "_view_module": "@jupyter-widgets/base",
       "_view_module_version": "1.2.0",
       "_view_name": "LayoutView",
       "align_content": null,
       "align_items": null,
       "align_self": null,
       "border": null,
       "bottom": null,
       "display": null,
       "flex": null,
       "flex_flow": null,
       "grid_area": null,
       "grid_auto_columns": null,
       "grid_auto_flow": null,
       "grid_auto_rows": null,
       "grid_column": null,
       "grid_gap": null,
       "grid_row": null,
       "grid_template_areas": null,
       "grid_template_columns": null,
       "grid_template_rows": null,
       "height": null,
       "justify_content": null,
       "justify_items": null,
       "left": null,
       "margin": null,
       "max_height": null,
       "max_width": null,
       "min_height": null,
       "min_width": null,
       "object_fit": null,
       "object_position": null,
       "order": null,
       "overflow": null,
       "overflow_x": null,
       "overflow_y": null,
       "padding": null,
       "right": null,
       "top": null,
       "visibility": null,
       "width": null
      }
     },
     "92f6539a241640598aae4cb148c79124": {
      "model_module": "@jupyter-widgets/base",
      "model_module_version": "1.2.0",
      "model_name": "LayoutModel",
      "state": {
       "_model_module": "@jupyter-widgets/base",
       "_model_module_version": "1.2.0",
       "_model_name": "LayoutModel",
       "_view_count": null,
       "_view_module": "@jupyter-widgets/base",
       "_view_module_version": "1.2.0",
       "_view_name": "LayoutView",
       "align_content": null,
       "align_items": null,
       "align_self": null,
       "border": null,
       "bottom": null,
       "display": null,
       "flex": null,
       "flex_flow": null,
       "grid_area": null,
       "grid_auto_columns": null,
       "grid_auto_flow": null,
       "grid_auto_rows": null,
       "grid_column": null,
       "grid_gap": null,
       "grid_row": null,
       "grid_template_areas": null,
       "grid_template_columns": null,
       "grid_template_rows": null,
       "height": null,
       "justify_content": null,
       "justify_items": null,
       "left": null,
       "margin": null,
       "max_height": null,
       "max_width": null,
       "min_height": null,
       "min_width": null,
       "object_fit": null,
       "object_position": null,
       "order": null,
       "overflow": null,
       "overflow_x": null,
       "overflow_y": null,
       "padding": null,
       "right": null,
       "top": null,
       "visibility": null,
       "width": null
      }
     },
     "96ff0e4bb8504c3182ea9e344e1ec234": {
      "model_module": "@jupyter-widgets/controls",
      "model_module_version": "1.5.0",
      "model_name": "HTMLModel",
      "state": {
       "_dom_classes": [],
       "_model_module": "@jupyter-widgets/controls",
       "_model_module_version": "1.5.0",
       "_model_name": "HTMLModel",
       "_view_count": null,
       "_view_module": "@jupyter-widgets/controls",
       "_view_module_version": "1.5.0",
       "_view_name": "HTMLView",
       "description": "",
       "description_tooltip": null,
       "layout": "IPY_MODEL_46188ca257cb45448d9c9a80c7819ed9",
       "placeholder": "​",
       "style": "IPY_MODEL_6b24444139c5484b8ec6d58f73d38d34",
       "value": " 67/67 [00:41&lt;00:00,  1.60it/s]"
      }
     },
     "99081f629ac149fc96a1e7c313bf1fda": {
      "model_module": "@jupyter-widgets/controls",
      "model_module_version": "1.5.0",
      "model_name": "HTMLModel",
      "state": {
       "_dom_classes": [],
       "_model_module": "@jupyter-widgets/controls",
       "_model_module_version": "1.5.0",
       "_model_name": "HTMLModel",
       "_view_count": null,
       "_view_module": "@jupyter-widgets/controls",
       "_view_module_version": "1.5.0",
       "_view_name": "HTMLView",
       "description": "",
       "description_tooltip": null,
       "layout": "IPY_MODEL_15e80cd5e0e44814ae226977a9be4880",
       "placeholder": "​",
       "style": "IPY_MODEL_6dac07e5bbcf4e7aba6c4387be9accc7",
       "value": " 67/67 [01:25&lt;00:00,  1.28s/it]"
      }
     },
     "9b351682f3f24f32868c11c6a9c9462a": {
      "model_module": "@jupyter-widgets/controls",
      "model_module_version": "1.5.0",
      "model_name": "FloatProgressModel",
      "state": {
       "_dom_classes": [],
       "_model_module": "@jupyter-widgets/controls",
       "_model_module_version": "1.5.0",
       "_model_name": "FloatProgressModel",
       "_view_count": null,
       "_view_module": "@jupyter-widgets/controls",
       "_view_module_version": "1.5.0",
       "_view_name": "ProgressView",
       "bar_style": "success",
       "description": "100%",
       "description_tooltip": null,
       "layout": "IPY_MODEL_759df59e681f46338045f37fdc8c8b9b",
       "max": 67.0,
       "min": 0.0,
       "orientation": "horizontal",
       "style": "IPY_MODEL_71467e5cd1314080bab7cfd0872c74db",
       "value": 67.0
      }
     },
     "9cd00f268d9b4f569c467e15317f74a9": {
      "model_module": "@jupyter-widgets/controls",
      "model_module_version": "1.5.0",
      "model_name": "HBoxModel",
      "state": {
       "_dom_classes": [],
       "_model_module": "@jupyter-widgets/controls",
       "_model_module_version": "1.5.0",
       "_model_name": "HBoxModel",
       "_view_count": null,
       "_view_module": "@jupyter-widgets/controls",
       "_view_module_version": "1.5.0",
       "_view_name": "HBoxView",
       "box_style": "",
       "children": [
        "IPY_MODEL_1eec9df12c7f4304ad535675d30e57a3",
        "IPY_MODEL_e1a6e8da0eb44b52a0584faa80285f46"
       ],
       "layout": "IPY_MODEL_4596068f6037413d928be29a29032eaf"
      }
     },
     "9f553bcf532c423698ef3de38bdb3e49": {
      "model_module": "@jupyter-widgets/controls",
      "model_module_version": "1.5.0",
      "model_name": "HTMLModel",
      "state": {
       "_dom_classes": [],
       "_model_module": "@jupyter-widgets/controls",
       "_model_module_version": "1.5.0",
       "_model_name": "HTMLModel",
       "_view_count": null,
       "_view_module": "@jupyter-widgets/controls",
       "_view_module_version": "1.5.0",
       "_view_name": "HTMLView",
       "description": "",
       "description_tooltip": null,
       "layout": "IPY_MODEL_5d9795761f384fd694044ee086d38e12",
       "placeholder": "​",
       "style": "IPY_MODEL_222ebd6b4d154f7795bea03b8dca1f85",
       "value": " 67/67 [00:40&lt;00:00,  1.64it/s]"
      }
     },
     "a375e611720c4544aac3bdc026936700": {
      "model_module": "@jupyter-widgets/controls",
      "model_module_version": "1.5.0",
      "model_name": "HBoxModel",
      "state": {
       "_dom_classes": [],
       "_model_module": "@jupyter-widgets/controls",
       "_model_module_version": "1.5.0",
       "_model_name": "HBoxModel",
       "_view_count": null,
       "_view_module": "@jupyter-widgets/controls",
       "_view_module_version": "1.5.0",
       "_view_name": "HBoxView",
       "box_style": "",
       "children": [
        "IPY_MODEL_0a93cf9a25cb4d539812ea724ab455d6",
        "IPY_MODEL_362d942929ad45afa7b695a00afbc7c2"
       ],
       "layout": "IPY_MODEL_92f6539a241640598aae4cb148c79124"
      }
     },
     "b17a8a86ee4048adb12cd63ba02986ea": {
      "model_module": "@jupyter-widgets/base",
      "model_module_version": "1.2.0",
      "model_name": "LayoutModel",
      "state": {
       "_model_module": "@jupyter-widgets/base",
       "_model_module_version": "1.2.0",
       "_model_name": "LayoutModel",
       "_view_count": null,
       "_view_module": "@jupyter-widgets/base",
       "_view_module_version": "1.2.0",
       "_view_name": "LayoutView",
       "align_content": null,
       "align_items": null,
       "align_self": null,
       "border": null,
       "bottom": null,
       "display": null,
       "flex": null,
       "flex_flow": null,
       "grid_area": null,
       "grid_auto_columns": null,
       "grid_auto_flow": null,
       "grid_auto_rows": null,
       "grid_column": null,
       "grid_gap": null,
       "grid_row": null,
       "grid_template_areas": null,
       "grid_template_columns": null,
       "grid_template_rows": null,
       "height": null,
       "justify_content": null,
       "justify_items": null,
       "left": null,
       "margin": null,
       "max_height": null,
       "max_width": null,
       "min_height": null,
       "min_width": null,
       "object_fit": null,
       "object_position": null,
       "order": null,
       "overflow": null,
       "overflow_x": null,
       "overflow_y": null,
       "padding": null,
       "right": null,
       "top": null,
       "visibility": null,
       "width": null
      }
     },
     "cb9ead7ee8b74bea85dd7e9a25a97ed4": {
      "model_module": "@jupyter-widgets/base",
      "model_module_version": "1.2.0",
      "model_name": "LayoutModel",
      "state": {
       "_model_module": "@jupyter-widgets/base",
       "_model_module_version": "1.2.0",
       "_model_name": "LayoutModel",
       "_view_count": null,
       "_view_module": "@jupyter-widgets/base",
       "_view_module_version": "1.2.0",
       "_view_name": "LayoutView",
       "align_content": null,
       "align_items": null,
       "align_self": null,
       "border": null,
       "bottom": null,
       "display": null,
       "flex": null,
       "flex_flow": null,
       "grid_area": null,
       "grid_auto_columns": null,
       "grid_auto_flow": null,
       "grid_auto_rows": null,
       "grid_column": null,
       "grid_gap": null,
       "grid_row": null,
       "grid_template_areas": null,
       "grid_template_columns": null,
       "grid_template_rows": null,
       "height": null,
       "justify_content": null,
       "justify_items": null,
       "left": null,
       "margin": null,
       "max_height": null,
       "max_width": null,
       "min_height": null,
       "min_width": null,
       "object_fit": null,
       "object_position": null,
       "order": null,
       "overflow": null,
       "overflow_x": null,
       "overflow_y": null,
       "padding": null,
       "right": null,
       "top": null,
       "visibility": null,
       "width": null
      }
     },
     "d1aa82ef47b34541a4cf2ae10f355bd6": {
      "model_module": "@jupyter-widgets/controls",
      "model_module_version": "1.5.0",
      "model_name": "FloatProgressModel",
      "state": {
       "_dom_classes": [],
       "_model_module": "@jupyter-widgets/controls",
       "_model_module_version": "1.5.0",
       "_model_name": "FloatProgressModel",
       "_view_count": null,
       "_view_module": "@jupyter-widgets/controls",
       "_view_module_version": "1.5.0",
       "_view_name": "ProgressView",
       "bar_style": "success",
       "description": "100%",
       "description_tooltip": null,
       "layout": "IPY_MODEL_9234eea9ecbd42b591ba8c5f53d2b23a",
       "max": 67.0,
       "min": 0.0,
       "orientation": "horizontal",
       "style": "IPY_MODEL_5e08745bd529433d8c51239e18557bd9",
       "value": 67.0
      }
     },
     "dd194996f2ae45319a11ca593dc8fc32": {
      "model_module": "@jupyter-widgets/controls",
      "model_module_version": "1.5.0",
      "model_name": "HBoxModel",
      "state": {
       "_dom_classes": [],
       "_model_module": "@jupyter-widgets/controls",
       "_model_module_version": "1.5.0",
       "_model_name": "HBoxModel",
       "_view_count": null,
       "_view_module": "@jupyter-widgets/controls",
       "_view_module_version": "1.5.0",
       "_view_name": "HBoxView",
       "box_style": "",
       "children": [
        "IPY_MODEL_d1aa82ef47b34541a4cf2ae10f355bd6",
        "IPY_MODEL_99081f629ac149fc96a1e7c313bf1fda"
       ],
       "layout": "IPY_MODEL_b17a8a86ee4048adb12cd63ba02986ea"
      }
     },
     "e1a6e8da0eb44b52a0584faa80285f46": {
      "model_module": "@jupyter-widgets/controls",
      "model_module_version": "1.5.0",
      "model_name": "HTMLModel",
      "state": {
       "_dom_classes": [],
       "_model_module": "@jupyter-widgets/controls",
       "_model_module_version": "1.5.0",
       "_model_name": "HTMLModel",
       "_view_count": null,
       "_view_module": "@jupyter-widgets/controls",
       "_view_module_version": "1.5.0",
       "_view_name": "HTMLView",
       "description": "",
       "description_tooltip": null,
       "layout": "IPY_MODEL_3424e908dd5d4e95b6b47cc99d4a9792",
       "placeholder": "​",
       "style": "IPY_MODEL_4c4393fcbaa04d0692a8dae632ef5c53",
       "value": " 67/67 [00:43&lt;00:00,  1.55it/s]"
      }
     },
     "f0a9f99c373546238339e8d301a60fde": {
      "model_module": "@jupyter-widgets/controls",
      "model_module_version": "1.5.0",
      "model_name": "DescriptionStyleModel",
      "state": {
       "_model_module": "@jupyter-widgets/controls",
       "_model_module_version": "1.5.0",
       "_model_name": "DescriptionStyleModel",
       "_view_count": null,
       "_view_module": "@jupyter-widgets/base",
       "_view_module_version": "1.2.0",
       "_view_name": "StyleView",
       "description_width": ""
      }
     }
    },
    "version_major": 2,
    "version_minor": 0
   }
  }
 },
 "nbformat": 4,
 "nbformat_minor": 4
}
